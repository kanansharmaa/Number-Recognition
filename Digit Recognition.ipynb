{
 "cells": [
  {
   "cell_type": "markdown",
   "id": "fc29e1a9",
   "metadata": {},
   "source": [
    "Importing libraries\n"
   ]
  },
  {
   "cell_type": "code",
   "execution_count": 2,
   "id": "2f1db37f",
   "metadata": {},
   "outputs": [],
   "source": [
    "import keras\n",
    "from keras.datasets import mnist\n",
    "from keras.models import Sequential\n",
    "from keras.layers import Dense, Dropout, Flatten\n",
    "from keras.layers import Conv2D, MaxPooling2D\n",
    "from keras import backend as K\n",
    "from keras.utils import to_categorical"
   ]
  },
  {
   "cell_type": "markdown",
   "id": "9499fa4e",
   "metadata": {},
   "source": [
    "Splitting the training and testing data"
   ]
  },
  {
   "cell_type": "code",
   "execution_count": 3,
   "id": "b6559cf9",
   "metadata": {},
   "outputs": [
    {
     "name": "stdout",
     "output_type": "stream",
     "text": [
      "(60000, 28, 28) (60000,)\n"
     ]
    }
   ],
   "source": [
    "(x_train, y_train), (x_test, y_test) = mnist.load_data()\n",
    "print(x_train.shape, y_train.shape)"
   ]
  },
  {
   "cell_type": "markdown",
   "id": "260f7a79",
   "metadata": {},
   "source": [
    "Preprocessing of data. The dimension of the training data is (60000,28,28). The CNN model will require one more dimension so we reshape the matrix to shape (60000,28,28,1)."
   ]
  },
  {
   "cell_type": "code",
   "execution_count": 4,
   "id": "aec42e4e",
   "metadata": {},
   "outputs": [],
   "source": [
    "x_train=x_train.reshape(x_train.shape[0],28,28,1)\n",
    "x_test=x_test.reshape(x_test.shape[0],28,28,1)\n",
    "input_data=(28,28,1)\n",
    "num_classes= 10\n"
   ]
  },
  {
   "cell_type": "code",
   "execution_count": 5,
   "id": "c69986f7",
   "metadata": {},
   "outputs": [],
   "source": [
    "\n",
    "y_train = keras.utils.to_categorical(y_train, num_classes)\n",
    "y_test=keras.utils.to_categorical(y_test,num_classes)"
   ]
  },
  {
   "cell_type": "code",
   "execution_count": 6,
   "id": "155e914f",
   "metadata": {},
   "outputs": [
    {
     "name": "stdout",
     "output_type": "stream",
     "text": [
      "x_train shape: (60000, 28, 28, 1)\n",
      "train samples 60000\n",
      "test samples 10000\n"
     ]
    }
   ],
   "source": [
    "x_train=x_train.astype('float32')\n",
    "x_test=x_test.astype('float32')\n",
    "x_train /=255\n",
    "x_test /= 255\n",
    "print('x_train shape:', x_train.shape)\n",
    "print( 'train samples', x_train.shape[0])\n",
    "print( 'test samples', x_test.shape[0])\n"
   ]
  },
  {
   "cell_type": "code",
   "execution_count": 7,
   "id": "12fc293f",
   "metadata": {},
   "outputs": [],
   "source": [
    "batch_size = 128\n",
    "#num_classes = 10\n",
    "epochs = 20\n",
    "\n",
    "model = Sequential()\n",
    "model.add(Conv2D(32, kernel_size=(3, 3),activation='relu',input_shape=input_data))\n",
    "model.add(Conv2D(64, (3, 3), activation='relu'))\n",
    "model.add(MaxPooling2D(pool_size=(2, 2)))\n",
    "model.add(Dropout(0.25))\n",
    "model.add(Flatten())\n",
    "model.add(Dense(256, activation='relu'))\n",
    "model.add(Dropout(0.5))\n",
    "model.add(Dense(num_classes, activation='softmax'))\n",
    "\n",
    "model.compile(loss=keras.losses.categorical_crossentropy,optimizer=keras.optimizers.Adadelta(),metrics=['accuracy'])"
   ]
  },
  {
   "cell_type": "code",
   "execution_count": 8,
   "id": "e4e2a26b",
   "metadata": {},
   "outputs": [
    {
     "name": "stdout",
     "output_type": "stream",
     "text": [
      "Epoch 1/20\n",
      "469/469 [==============================] - 80s 169ms/step - loss: 2.2658 - accuracy: 0.1688 - val_loss: 2.2108 - val_accuracy: 0.4113\n",
      "Epoch 2/20\n",
      "469/469 [==============================] - 81s 172ms/step - loss: 2.1783 - accuracy: 0.3220 - val_loss: 2.0966 - val_accuracy: 0.6046\n",
      "Epoch 3/20\n",
      "469/469 [==============================] - 81s 173ms/step - loss: 2.0574 - accuracy: 0.4469 - val_loss: 1.9379 - val_accuracy: 0.7105\n",
      "Epoch 4/20\n",
      "469/469 [==============================] - 79s 168ms/step - loss: 1.8890 - accuracy: 0.5415 - val_loss: 1.7220 - val_accuracy: 0.7602\n",
      "Epoch 5/20\n",
      "469/469 [==============================] - 89s 189ms/step - loss: 1.6721 - accuracy: 0.6116 - val_loss: 1.4589 - val_accuracy: 0.7878\n",
      "Epoch 6/20\n",
      "469/469 [==============================] - 82s 174ms/step - loss: 1.4392 - accuracy: 0.6525 - val_loss: 1.1984 - val_accuracy: 0.8036\n",
      "Epoch 7/20\n",
      "469/469 [==============================] - 81s 173ms/step - loss: 1.2334 - accuracy: 0.6857 - val_loss: 0.9869 - val_accuracy: 0.8229\n",
      "Epoch 8/20\n",
      "469/469 [==============================] - 76s 162ms/step - loss: 1.0741 - accuracy: 0.7082 - val_loss: 0.8341 - val_accuracy: 0.8370\n",
      "Epoch 9/20\n",
      "469/469 [==============================] - 75s 159ms/step - loss: 0.9583 - accuracy: 0.7290 - val_loss: 0.7270 - val_accuracy: 0.8485\n",
      "Epoch 10/20\n",
      "469/469 [==============================] - 80s 170ms/step - loss: 0.8751 - accuracy: 0.7451 - val_loss: 0.6518 - val_accuracy: 0.8553\n",
      "Epoch 11/20\n",
      "469/469 [==============================] - 81s 172ms/step - loss: 0.8094 - accuracy: 0.7611 - val_loss: 0.5951 - val_accuracy: 0.8629\n",
      "Epoch 12/20\n",
      "469/469 [==============================] - 81s 173ms/step - loss: 0.7580 - accuracy: 0.7727 - val_loss: 0.5519 - val_accuracy: 0.8689\n",
      "Epoch 13/20\n",
      "469/469 [==============================] - 79s 168ms/step - loss: 0.7188 - accuracy: 0.7825 - val_loss: 0.5183 - val_accuracy: 0.8731\n",
      "Epoch 14/20\n",
      "469/469 [==============================] - 82s 175ms/step - loss: 0.6846 - accuracy: 0.7929 - val_loss: 0.4913 - val_accuracy: 0.8769\n",
      "Epoch 15/20\n",
      "469/469 [==============================] - 78s 166ms/step - loss: 0.6550 - accuracy: 0.8008 - val_loss: 0.4693 - val_accuracy: 0.8806\n",
      "Epoch 16/20\n",
      "469/469 [==============================] - 79s 168ms/step - loss: 0.6310 - accuracy: 0.8097 - val_loss: 0.4505 - val_accuracy: 0.8837\n",
      "Epoch 17/20\n",
      "469/469 [==============================] - 79s 169ms/step - loss: 0.6102 - accuracy: 0.8135 - val_loss: 0.4345 - val_accuracy: 0.8869\n",
      "Epoch 18/20\n",
      "469/469 [==============================] - 81s 173ms/step - loss: 0.5896 - accuracy: 0.8222 - val_loss: 0.4207 - val_accuracy: 0.8895\n",
      "Epoch 19/20\n",
      "469/469 [==============================] - 73s 156ms/step - loss: 0.5749 - accuracy: 0.8258 - val_loss: 0.4078 - val_accuracy: 0.8929\n",
      "Epoch 20/20\n",
      "469/469 [==============================] - 73s 156ms/step - loss: 0.5593 - accuracy: 0.8304 - val_loss: 0.3972 - val_accuracy: 0.8935\n",
      "The model has successfully trained\n"
     ]
    },
    {
     "name": "stderr",
     "output_type": "stream",
     "text": [
      "WARNING:absl:Found untraced functions such as _jit_compiled_convolution_op, _jit_compiled_convolution_op while saving (showing 2 of 2). These functions will not be directly callable after loading.\n"
     ]
    },
    {
     "name": "stdout",
     "output_type": "stream",
     "text": [
      "INFO:tensorflow:Assets written to: number recognition\\assets\n"
     ]
    },
    {
     "name": "stderr",
     "output_type": "stream",
     "text": [
      "INFO:tensorflow:Assets written to: number recognition\\assets\n"
     ]
    },
    {
     "name": "stdout",
     "output_type": "stream",
     "text": [
      "Saving the model as number recognition\n"
     ]
    }
   ],
   "source": [
    "\n",
    "\n",
    "hist = model.fit(x_train, y_train, batch_size=batch_size, epochs=epochs, verbose=1, validation_data=(x_test, y_test))\n",
    "print(\"The model has successfully trained\")\n",
    "\n",
    "model.save('number recognition')\n",
    "print(\"Saving the model as number recognition\")\n",
    "\n"
   ]
  },
  {
   "cell_type": "code",
   "execution_count": 9,
   "id": "b74c6ef0",
   "metadata": {},
   "outputs": [
    {
     "name": "stdout",
     "output_type": "stream",
     "text": [
      "313/313 [==============================] - 3s 11ms/step - loss: 0.3972 - accuracy: 0.8935\n",
      "Test score: 0.39717891812324524\n",
      "Test accuracy: 0.8934999704360962\n"
     ]
    }
   ],
   "source": [
    "score=model.evaluate(x_test,y_test)\n",
    "print('Test score:', score[0])\n",
    "print('Test accuracy:', score[1])"
   ]
  },
  {
   "cell_type": "code",
   "execution_count": 11,
   "id": "a70ed8c6",
   "metadata": {},
   "outputs": [
    {
     "name": "stdout",
     "output_type": "stream",
     "text": [
      "1/1 [==============================] - 0s 74ms/step\n"
     ]
    }
   ],
   "source": [
    "from keras.models import load_model\n",
    "from tkinter import *\n",
    "import tkinter as tk\n",
    "import win32gui\n",
    "from PIL import ImageGrab, Image\n",
    "import numpy as np\n",
    "\n",
    "model = load_model('number recognition')\n",
    "\n",
    "def predict_digit(img):\n",
    "    #resize image to 28x28 pixels\n",
    "    img = img.resize((28,28))\n",
    "    #convert rgb to grayscale\n",
    "    img = img.convert('L')\n",
    "    img = np.array(img)\n",
    "    #reshaping to support our model input and normalizing\n",
    "    img = img.reshape(1,28,28,1)\n",
    "    img = img/255.0\n",
    "    #predicting the class\n",
    "    res = model.predict([img])[0]\n",
    "    return np.argmax(res), max(res)\n",
    "\n",
    "class App(tk.Tk):\n",
    "    def __init__(self):\n",
    "        tk.Tk.__init__(self)\n",
    "\n",
    "        self.x = self.y = 0\n",
    "\n",
    "        # Creating elements\n",
    "        self.canvas = tk.Canvas(self, width=400, height=400, bg = \"beige\", cursor=\"cross\")\n",
    "        self.label = tk.Label(self, text=\"Thinking..\", font=(\"Helvetica\", 48))\n",
    "        self.classify_btn = tk.Button(self, text = \"Recognise\", command =self.classify_handwriting) \n",
    "        self.button_clear = tk.Button(self, text = \"Clear\", command = self.clear_all)\n",
    "\n",
    "        # Grid structure\n",
    "        self.canvas.grid(row=0, column=0, pady=2, sticky=W, )\n",
    "        self.label.grid(row=0, column=1,pady=2, padx=2)\n",
    "        self.classify_btn.grid(row=1, column=1, pady=2, padx=2)\n",
    "        self.button_clear.grid(row=1, column=0, pady=2)\n",
    "\n",
    "        #self.canvas.bind(\"<Motion>\", self.start_pos)\n",
    "        self.canvas.bind(\"<B1-Motion>\", self.draw_lines)\n",
    "\n",
    "    def clear_all(self):\n",
    "        self.canvas.delete(\"all\")\n",
    "\n",
    "    def classify_handwriting(self):\n",
    "        HWND = self.canvas.winfo_id() # get the handle of the canvas\n",
    "        rect = win32gui.GetWindowRect(HWND) # get the coordinate of the canvas\n",
    "        im = ImageGrab.grab(rect)\n",
    "\n",
    "        digit, acc = predict_digit(im)\n",
    "        self.label.configure(text= str(digit)+', '+ str(int(acc*100))+'%')\n",
    "\n",
    "    def draw_lines(self, event):\n",
    "        self.x = event.x\n",
    "        self.y = event.y\n",
    "        r=8\n",
    "        self.canvas.create_oval(self.x-r, self.y-r, self.x + r, self.y + r, fill='black')\n",
    "\n",
    "app = App()\n",
    "mainloop()"
   ]
  },
  {
   "cell_type": "code",
   "execution_count": null,
   "id": "d394a87c",
   "metadata": {},
   "outputs": [],
   "source": []
  }
 ],
 "metadata": {
  "kernelspec": {
   "display_name": "Python 3 (ipykernel)",
   "language": "python",
   "name": "python3"
  },
  "language_info": {
   "codemirror_mode": {
    "name": "ipython",
    "version": 3
   },
   "file_extension": ".py",
   "mimetype": "text/x-python",
   "name": "python",
   "nbconvert_exporter": "python",
   "pygments_lexer": "ipython3",
   "version": "3.9.12"
  }
 },
 "nbformat": 4,
 "nbformat_minor": 5
}
